{
 "cells": [
  {
   "cell_type": "code",
   "execution_count": 9,
   "id": "53ba149b",
   "metadata": {},
   "outputs": [],
   "source": [
    "'''\n",
    "@Time : 2023-10-09 14:10\n",
    "@Author : laolao\n",
    "@FileName: model_training.py\n",
    "'''\n",
    "import pickle\n",
    "import model_dataSource\n",
    "from sklearn.linear_model import LogisticRegression\n",
    "import matplotlib.pyplot as plt\n",
    "\n",
    "data = model_dataSource.Data_processing(good_file='data/goodqueries.txt', bad_file='data/nsfocus_isop_train.txt')\n",
    "X_train, X_test, y_train, y_test = data.return_train_data()\n",
    "\n",
    "lr = LogisticRegression(penalty='l2', C=1.0, solver='liblinear')\n",
    "acc=[]\n",
    "\n",
    "history = lr.fit(X_train, y_train)\n",
    "acc.append(history.score(X_test, y_test))\n",
    "# print('The accuracy of LogisticRegression is:', acc)\n",
    "\n",
    "with open('file/logs.pkl', 'wb') as f:\n",
    "    pickle.dump((data.vectorizer, lr), f)"
   ]
  },
  {
   "cell_type": "code",
   "execution_count": 10,
   "id": "8b9fe6aa",
   "metadata": {},
   "outputs": [
    {
     "data": {
      "image/png": "[encoded data removed]",
      "text/plain": [
       "<Figure size 432x288 with 1 Axes>"
      ]
     },
     "metadata": {
      "needs_background": "light"
     },
     "output_type": "display_data"
    }
   ],
   "source": [
    "# 绘制每一轮acc的折线图\n",
    "plt.plot(range(1, len(acc)+1), acc, 'bo', label='Test acc')\n",
    "plt.title('Test Accuracy')\n",
    "plt.xlabel('Epochs')\n",
    "plt.ylabel('Accuracy')\n",
    "plt.legend()\n",
    "plt.show()"
   ]
  },
  {
   "cell_type": "code",
   "execution_count": 11,
   "id": "09574115",
   "metadata": {},
   "outputs": [
    {
     "data": {
      "text/plain": [
       "array([0, 0, 0, 0, 0, 0, 0, 0, 0, 0, 0, 0, 0, 0, 0, 0, 0, 0, 0, 0])"
      ]
     },
     "execution_count": 11,
     "metadata": {},
     "output_type": "execute_result"
    }
   ],
   "source": [
    "lr.predict(X_test)"
   ]
  },
  {
   "cell_type": "code",
   "execution_count": 12,
   "id": "2e292321",
   "metadata": {},
   "outputs": [
    {
     "data": {
      "text/plain": [
       "[0, 0, 0, 0, 0, 0, 0, 0, 0, 0, 0, 0, 0, 0, 0, 0, 0, 0, 0, 0]"
      ]
     },
     "execution_count": 12,
     "metadata": {},
     "output_type": "execute_result"
    }
   ],
   "source": [
    "y_test"
   ]
  },
  {
   "cell_type": "code",
   "execution_count": 13,
   "id": "843d2ce8",
   "metadata": {},
   "outputs": [
    {
     "data": {
      "text/plain": [
       "<1310548x92521 sparse matrix of type '<class 'numpy.float64'>'\n",
       "\twith 20461324 stored elements in Compressed Sparse Row format>"
      ]
     },
     "execution_count": 13,
     "metadata": {},
     "output_type": "execute_result"
    }
   ],
   "source": [
    "X_train"
   ]
  },
  {
   "cell_type": "code",
   "execution_count": null,
   "id": "60b6b029",
   "metadata": {},
   "outputs": [],
   "source": []
  }
 ],
 "metadata": {
  "kernelspec": {
   "display_name": "Python 3",
   "language": "python",
   "name": "python3"
  },
  "language_info": {
   "codemirror_mode": {
    "name": "ipython",
    "version": 3
   },
   "file_extension": ".py",
   "mimetype": "text/x-python",
   "name": "python",
   "nbconvert_exporter": "python",
   "pygments_lexer": "ipython3",
   "version": "3.7.6"
  },
  "toc": {
   "base_numbering": 1,
   "nav_menu": {},
   "number_sections": true,
   "sideBar": true,
   "skip_h1_title": false,
   "title_cell": "Table of Contents",
   "title_sidebar": "Contents",
   "toc_cell": false,
   "toc_position": {},
   "toc_section_display": true,
   "toc_window_display": false
  }
 },
 "nbformat": 4,
 "nbformat_minor": 5
}
